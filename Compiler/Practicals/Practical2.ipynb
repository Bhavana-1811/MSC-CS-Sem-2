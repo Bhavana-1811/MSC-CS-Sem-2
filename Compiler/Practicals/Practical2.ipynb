{
 "cells": [
  {
   "cell_type": "code",
   "execution_count": 1,
   "id": "4536cd88",
   "metadata": {},
   "outputs": [
    {
     "name": "stdout",
     "output_type": "stream",
     "text": [
      "Enter number of rules >\t2\n",
      "Enter Right Linear Grammar 1>\tS-aA\n",
      "Enter Right Linear Grammar 2>\tC-dD\n",
      "The Left Linear Grammar\n",
      "S-Aa\n",
      "\n",
      "C-Dd\n",
      "\n"
     ]
    }
   ],
   "source": [
    "def get_transitions(rules):\n",
    "    my_dict = {}\n",
    "    ld = ''\n",
    "    res = dict()\n",
    "    r = ''\n",
    "\n",
    "    for i in rules:\n",
    "        if i[0] not in my_dict:\n",
    "            my_dict[i[0]] = [i[1][1], i[1][0]]\n",
    "        else:\n",
    "            my_dict[i[0]][i[1][0]] = i[1][1]\n",
    "\n",
    "    for sub in my_dict:\n",
    "        if isinstance(my_dict[sub], list):\n",
    "            res[sub] = ld.join([str(ele) for ele in my_dict[sub]])\n",
    "\n",
    "    print(\"The Left Linear Grammar\")\n",
    "    for item in res:\n",
    "        r = item + \"-\" + str(res[item]) + \"\\n\"\n",
    "        print(str(r))\n",
    "\n",
    "rule_count = int(input(\"Enter number of rules >\\t\"))\n",
    "rules = []\n",
    "\n",
    "for i in range(rule_count):\n",
    "    rules.append(input(\"Enter Right Linear Grammar \"+ str(i+1) +\">\\t\"))\n",
    "\n",
    "rules = [i.split(\"-\") for i in rules]\n",
    "\n",
    "get_transitions(rules)\n"
   ]
  },
  {
   "cell_type": "code",
   "execution_count": null,
   "id": "bce6c665",
   "metadata": {},
   "outputs": [],
   "source": []
  }
 ],
 "metadata": {
  "kernelspec": {
   "display_name": "Python 3 (ipykernel)",
   "language": "python",
   "name": "python3"
  },
  "language_info": {
   "codemirror_mode": {
    "name": "ipython",
    "version": 3
   },
   "file_extension": ".py",
   "mimetype": "text/x-python",
   "name": "python",
   "nbconvert_exporter": "python",
   "pygments_lexer": "ipython3",
   "version": "3.7.1"
  }
 },
 "nbformat": 4,
 "nbformat_minor": 5
}
