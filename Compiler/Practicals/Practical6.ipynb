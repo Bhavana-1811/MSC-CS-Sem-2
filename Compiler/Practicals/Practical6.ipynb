{
 "cells": [
  {
   "cell_type": "code",
   "execution_count": 2,
   "id": "cecb36a5",
   "metadata": {},
   "outputs": [
    {
     "name": "stdout",
     "output_type": "stream",
     "text": [
      "Enter Postfix Expression: a b - a c - * a c - *\n",
      "3 address code\n",
      "stack= ['a']\n",
      "stack= ['a', 'b']\n",
      "T 0 =  a-b\n",
      "stack= ['T0', 'a']\n",
      "stack= ['T0', 'a', 'c']\n",
      "T 1 =  a-c\n",
      "T 2 =  T0*T1\n",
      "stack= ['T2', 'a']\n",
      "stack= ['T2', 'a', 'c']\n",
      "T 3 =  a-c\n",
      "T 4 =  T2*T3\n"
     ]
    }
   ],
   "source": [
    "postfix = input(\"Enter Postfix Expression: \").split()\n",
    "operators = ['+','-','/','*','^']\n",
    "stack = []\n",
    "result = ' '\n",
    "str1 = ' '\n",
    "count = 0\n",
    "print(\"3 address code\")\n",
    "\n",
    "for i in postfix:\n",
    "    if i not in operators:\n",
    "        stack.append(i)\n",
    "        print(\"stack=\", stack)\n",
    "    else:\n",
    "        op1 = stack.pop()\n",
    "        op2 = stack.pop()\n",
    "        result = op2 + i +op1\n",
    "        str1 = 'T' + str(count)\n",
    "        stack.append(str1)\n",
    "        print(\"T\", count, \"= \", result)\n",
    "        count += 1"
   ]
  },
  {
   "cell_type": "code",
   "execution_count": null,
   "id": "19ba2232",
   "metadata": {},
   "outputs": [],
   "source": []
  },
  {
   "cell_type": "code",
   "execution_count": null,
   "id": "639414bf",
   "metadata": {},
   "outputs": [],
   "source": []
  }
 ],
 "metadata": {
  "kernelspec": {
   "display_name": "Python 3 (ipykernel)",
   "language": "python",
   "name": "python3"
  },
  "language_info": {
   "codemirror_mode": {
    "name": "ipython",
    "version": 3
   },
   "file_extension": ".py",
   "mimetype": "text/x-python",
   "name": "python",
   "nbconvert_exporter": "python",
   "pygments_lexer": "ipython3",
   "version": "3.7.1"
  }
 },
 "nbformat": 4,
 "nbformat_minor": 5
}
