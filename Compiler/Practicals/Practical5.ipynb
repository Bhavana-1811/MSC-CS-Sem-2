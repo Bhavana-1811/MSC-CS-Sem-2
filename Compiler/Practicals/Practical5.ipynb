{
 "cells": [
  {
   "cell_type": "code",
   "execution_count": 1,
   "id": "cab135e9",
   "metadata": {},
   "outputs": [
    {
     "name": "stdout",
     "output_type": "stream",
     "text": [
      "Enter string (with space between two digits): 1 5 2 * + 14 -\n",
      "3\n"
     ]
    }
   ],
   "source": [
    "def postfix_evaluation(s):\n",
    "    s = s.split()\n",
    "    n = len(s)\n",
    "    stack = []\n",
    "    for i in range(n):\n",
    "        if s[i].isdigit():\n",
    "            stack.append(int(s[i]))\n",
    "        elif s[i] == \"+\":\n",
    "            a = stack.pop()\n",
    "            b = stack.pop()\n",
    "            stack.append(int(a) + int(b))\n",
    "        elif s[i] == \"*\":\n",
    "            a = stack.pop()\n",
    "            b = stack.pop()\n",
    "            stack.append(int(a) * int(b))\n",
    "        elif s[i] == \"/\":\n",
    "            a = stack.pop()\n",
    "            b = stack.pop()\n",
    "            stack.append(int(a) / int(b))\n",
    "        elif s[i] == \"-\":\n",
    "            a = stack.pop()\n",
    "            b = stack.pop()\n",
    "            stack.append(int(a) - int(b))\n",
    "    return stack.pop()\n",
    "\n",
    "\n",
    "s = input(\"Enter string (with space between two digits): \")\n",
    "#s = \"1 5 2 * + 14 -\"\n",
    "val = postfix_evaluation(s)\n",
    "print(val)"
   ]
  },
  {
   "cell_type": "code",
   "execution_count": null,
   "id": "b35ae71c",
   "metadata": {},
   "outputs": [],
   "source": []
  }
 ],
 "metadata": {
  "kernelspec": {
   "display_name": "Python 3 (ipykernel)",
   "language": "python",
   "name": "python3"
  },
  "language_info": {
   "codemirror_mode": {
    "name": "ipython",
    "version": 3
   },
   "file_extension": ".py",
   "mimetype": "text/x-python",
   "name": "python",
   "nbconvert_exporter": "python",
   "pygments_lexer": "ipython3",
   "version": "3.7.1"
  }
 },
 "nbformat": 4,
 "nbformat_minor": 5
}
