{
 "cells": [
  {
   "cell_type": "code",
   "execution_count": 1,
   "id": "2e9deb17",
   "metadata": {},
   "outputs": [
    {
     "name": "stdout",
     "output_type": "stream",
     "text": [
      "Enter number of 3 - Address Code: \n",
      "5\n",
      "s=a-b\n",
      "t=a-c\n",
      "u=s*t\n",
      "v=u*t\n",
      "z=v\n",
      "Label Operator Left Right\n",
      "( s )      -     a      b\n",
      "( t )      -     a      c\n",
      "( u )      *     s      t\n",
      "( v )      *     u      t\n",
      "( z )      =     v     \n",
      "['s=a-b', 't=a-c', 'u=s*t', 'v=u*t', 'z=v']\n",
      "['s', 't', 'u', 'v', 'z']\n"
     ]
    }
   ],
   "source": [
    "def func1(x):\n",
    "    main = []\n",
    "    for i in range(0,x):\n",
    "        y = input()\n",
    "        main.append(y)\n",
    "    print(\"Label Operator Left Right\")\n",
    "\n",
    "    for i in range(0,x):\n",
    "        q = main[i]\n",
    "        if q[0] not in res:\n",
    "            res.append(q[0])\n",
    "        \n",
    "        if(len(q)>3):\n",
    "            print(\"(\", q[0] ,\")\", \"    \", q[3], \"   \", q[2], \"    \",q[4])\n",
    "        else:\n",
    "            print(\"(\", q[0] ,\")\", \"    \", q[1], \"   \", q[2], \"    \")\n",
    "    print(main)\n",
    "    print(res)\n",
    "\n",
    "print(\"Enter number of 3 - Address Code: \")\n",
    "x = input()\n",
    "x = int(x)\n",
    "res = []\n",
    "func1(x)"
   ]
  },
  {
   "cell_type": "code",
   "execution_count": null,
   "id": "9a5974e7",
   "metadata": {},
   "outputs": [],
   "source": []
  }
 ],
 "metadata": {
  "kernelspec": {
   "display_name": "Python 3 (ipykernel)",
   "language": "python",
   "name": "python3"
  },
  "language_info": {
   "codemirror_mode": {
    "name": "ipython",
    "version": 3
   },
   "file_extension": ".py",
   "mimetype": "text/x-python",
   "name": "python",
   "nbconvert_exporter": "python",
   "pygments_lexer": "ipython3",
   "version": "3.7.1"
  }
 },
 "nbformat": 4,
 "nbformat_minor": 5
}
