{
 "cells": [
  {
   "cell_type": "code",
   "execution_count": 1,
   "id": "0baa6276",
   "metadata": {},
   "outputs": [
    {
     "name": "stdout",
     "output_type": "stream",
     "text": [
      "Enter number of production: \n",
      "5\n",
      "s=a-b\n",
      "t=a-c\n",
      "u=s*t\n",
      "v-u*t\n",
      "z=v\n",
      "Address Operator Argument1 Argument2\n",
      "( 0 )      -     a      b\n",
      "( 1 )      -     a      c\n",
      "( 2 )      *     0      1\n",
      "( 3 )      *     2      1\n",
      "( 4 )      =     3     \n",
      "['s=a-b', 't=a-c', 'u=s*t', 'v-u*t', 'z=v']\n",
      "['s', 't', 'u', 'v', 'z']\n"
     ]
    }
   ],
   "source": [
    "def func1(x):\n",
    "    main = []\n",
    "    for i in range(0,x):\n",
    "        y = input()\n",
    "        main.append(y)\n",
    "    print(\"Address Operator Argument1 Argument2\")\n",
    "\n",
    "    for i in range(0,x):\n",
    "        q = main[i]\n",
    "        if q[0] not in res:\n",
    "            res.append(q[0])\n",
    "        e = func2(q[2])\n",
    "        if(len(q)>3):\n",
    "            r = func2(q[4])\n",
    "            print(\"(\", i ,\")\", \"    \", q[3], \"   \", e, \"    \",r)\n",
    "        else:\n",
    "            print(\"(\", i ,\")\", \"    \", q[1], \"   \", e, \"    \")\n",
    "    print(main)\n",
    "    print(res)\n",
    "\n",
    "def func2(q):\n",
    "    try:\n",
    "        z = res.index(q)\n",
    "        return(z)\n",
    "    except:\n",
    "        return(q)\n",
    "\n",
    "print(\"Enter number of production: \")\n",
    "x = input()\n",
    "x = int(x)\n",
    "res = []\n",
    "func1(x)"
   ]
  },
  {
   "cell_type": "code",
   "execution_count": null,
   "id": "d3c4b1bf",
   "metadata": {},
   "outputs": [],
   "source": []
  }
 ],
 "metadata": {
  "kernelspec": {
   "display_name": "Python 3 (ipykernel)",
   "language": "python",
   "name": "python3"
  },
  "language_info": {
   "codemirror_mode": {
    "name": "ipython",
    "version": 3
   },
   "file_extension": ".py",
   "mimetype": "text/x-python",
   "name": "python",
   "nbconvert_exporter": "python",
   "pygments_lexer": "ipython3",
   "version": "3.7.1"
  }
 },
 "nbformat": 4,
 "nbformat_minor": 5
}
