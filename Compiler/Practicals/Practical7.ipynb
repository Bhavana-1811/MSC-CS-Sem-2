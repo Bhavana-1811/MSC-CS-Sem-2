{
 "cells": [
  {
   "cell_type": "code",
   "execution_count": 3,
   "id": "7648cb36",
   "metadata": {},
   "outputs": [
    {
     "name": "stdout",
     "output_type": "stream",
     "text": [
      "8  :  39  :  140979\n",
      "8  :  50  :  308875\n",
      "First Loop Difference:  11.167896032333374\n",
      "8  :  56  :  610667\n",
      "Second Loop Difference:  6.301791429519653\n"
     ]
    }
   ],
   "source": [
    "import time\n",
    "from datetime import datetime\n",
    "\n",
    "def func(arr1, arr2, arr3):\n",
    "    t1=datetime.now()\n",
    "    start = time.time()\n",
    "    print(t1.minute, \" : \", t1.second, \" : \", t1.microsecond)\n",
    "    for i in range (0, 10000000):\n",
    "        sum=0\n",
    "        for j in range (0, len(arr1)):\n",
    "            sum += arr1[j]\n",
    "        for k in range (0, len(arr2)):\n",
    "            sum += arr2[k]\n",
    "        for l in range (0, len(arr3)):\n",
    "            sum += arr3[l]\n",
    "        if(sum != 210):\n",
    "            print(false)\n",
    "    tm=datetime.now()    \n",
    "    done = time.time()\n",
    "    elapsed = done - start\n",
    "    print(tm.minute, \" : \", tm.second, \" : \", tm.microsecond)\n",
    "    print(\"First Loop Difference: \", elapsed)\n",
    "\n",
    "    start = time.time()\n",
    "    for i in range (0, 10000000):\n",
    "        sum = 0\n",
    "        for j in range (0, len(arr1)):\n",
    "            sum += arr1[j]\n",
    "            sum += arr2[j]\n",
    "            sum += arr3[j]\n",
    "        if(sum != 210):\n",
    "            print(false)\n",
    "    \n",
    "    tn=datetime.now()\n",
    "    done = time.time()\n",
    "    elapsed = done - start\n",
    "    print(tn.minute, \" : \", tn.second, \" : \", tn.microsecond)\n",
    "    print(\"Second Loop Difference: \", elapsed)\n",
    "\n",
    "arr1 = [10,20,30]\n",
    "arr2 = [20,10,30]\n",
    "arr3 = [40,40,10]\n",
    "func(arr1, arr2, arr3)\n"
   ]
  },
  {
   "cell_type": "code",
   "execution_count": null,
   "id": "df876049",
   "metadata": {},
   "outputs": [],
   "source": []
  }
 ],
 "metadata": {
  "kernelspec": {
   "display_name": "Python 3 (ipykernel)",
   "language": "python",
   "name": "python3"
  },
  "language_info": {
   "codemirror_mode": {
    "name": "ipython",
    "version": 3
   },
   "file_extension": ".py",
   "mimetype": "text/x-python",
   "name": "python",
   "nbconvert_exporter": "python",
   "pygments_lexer": "ipython3",
   "version": "3.7.1"
  }
 },
 "nbformat": 4,
 "nbformat_minor": 5
}
